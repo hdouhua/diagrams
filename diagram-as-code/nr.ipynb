{
 "cells": [
  {
   "cell_type": "code",
   "execution_count": 4,
   "metadata": {},
   "outputs": [],
   "source": [
    "from diagrams import Cluster, Diagram, Edge\n",
    "from diagrams.aws.compute import EC2\n",
    "from diagrams.aws.network import ELB\n",
    "from diagrams.custom import Custom\n",
    "from urllib.request import urlretrieve\n",
    "\n",
    "with Diagram(\"NR-LB\", show=False):\n",
    "    with Cluster(\"V4\"):\n",
    "        n4api = EC2(\"API\")\n",
    "        n4slowapi = EC2(\"slow-api-pool\")\n",
    "        n4slow = EC2(\"slow-pool\")\n",
    "        n4ui = EC2(\"UI\")\n",
    "    \n",
    "    with Cluster(\"Web2\"):\n",
    "        w2api = EC2(\"API\")\n",
    "        w2slowapi = EC2(\"slow-api-pool\")\n",
    "        w2slow = EC2(\"slow-pool\")\n",
    "        w2ui = EC2(\"UI\")\n",
    " \n",
    "    lb =  ELB(\"ALB\")\n",
    "    lb >> Edge(label=\"/mobilesitev2/api/xxx \\n((some special APIs)\") >> n4slowapi\n",
    "    lb >> Edge(label=\"/mobilesitev2/api/* with header\") >> n4api\n",
    "    lb >> Edge(label=\"/mobilesitev2/api/*\") >> n4slow\n",
    "    lb >> Edge(label=\"/api/xxx \\n(some special APIs)\") >> w2slowapi\n",
    "    lb >> Edge(label=\"/api/* with header\") >> w2api\n",
    "    lb >> Edge(label=\"/api/*\") >> w2slow\n",
    "    lb >> Edge(label=\"/mobilesitev2*\") >> n4ui\n",
    "    lb >> Edge(label=\"*\") >> w2ui\n"
   ]
  }
 ],
 "metadata": {
  "kernelspec": {
   "display_name": "ml-demo",
   "language": "python",
   "name": "python3"
  },
  "language_info": {
   "codemirror_mode": {
    "name": "ipython",
    "version": 3
   },
   "file_extension": ".py",
   "mimetype": "text/x-python",
   "name": "python",
   "nbconvert_exporter": "python",
   "pygments_lexer": "ipython3",
   "version": "3.11.0"
  },
  "orig_nbformat": 4
 },
 "nbformat": 4,
 "nbformat_minor": 2
}
